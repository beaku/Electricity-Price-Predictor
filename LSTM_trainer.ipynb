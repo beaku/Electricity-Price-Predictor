{
  "nbformat": 4,
  "nbformat_minor": 0,
  "metadata": {
    "colab": {
      "name": "3) LSTM trainer and saver.ipynb",
      "provenance": [],
      "collapsed_sections": [],
      "include_colab_link": true
    },
    "kernelspec": {
      "name": "python3",
      "display_name": "Python 3"
    },
    "accelerator": "GPU"
  },
  "cells": [
    {
      "cell_type": "markdown",
      "metadata": {
        "id": "view-in-github",
        "colab_type": "text"
      },
      "source": [
        "<a href=\"https://colab.research.google.com/github/beaku/Electricity-Price-Predictor/blob/master/LSTM_trainer\" target=\"_parent\"><img src=\"https://colab.research.google.com/assets/colab-badge.svg\" alt=\"Open In Colab\"/></a>"
      ]
    },
    {
      "cell_type": "code",
      "metadata": {
        "id": "iT07-vw9n8W_",
        "colab_type": "code",
        "colab": {}
      },
      "source": [
        "import numpy as np\n",
        "import pandas as pd\n",
        "import matplotlib.pyplot as plt\n",
        "%matplotlib inline"
      ],
      "execution_count": 0,
      "outputs": []
    },
    {
      "cell_type": "code",
      "metadata": {
        "id": "EMB-sew9oTIJ",
        "colab_type": "code",
        "outputId": "1e787c5e-621e-4110-dac6-1f582b79415b",
        "colab": {
          "base_uri": "https://localhost:8080/",
          "height": 204
        }
      },
      "source": [
        "dates = pd.read_csv('Date.csv')\n",
        "dates.head()"
      ],
      "execution_count": 0,
      "outputs": [
        {
          "output_type": "execute_result",
          "data": {
            "text/html": [
              "<div>\n",
              "<style scoped>\n",
              "    .dataframe tbody tr th:only-of-type {\n",
              "        vertical-align: middle;\n",
              "    }\n",
              "\n",
              "    .dataframe tbody tr th {\n",
              "        vertical-align: top;\n",
              "    }\n",
              "\n",
              "    .dataframe thead th {\n",
              "        text-align: right;\n",
              "    }\n",
              "</style>\n",
              "<table border=\"1\" class=\"dataframe\">\n",
              "  <thead>\n",
              "    <tr style=\"text-align: right;\">\n",
              "      <th></th>\n",
              "      <th>Unnamed: 0</th>\n",
              "      <th>Date</th>\n",
              "      <th>GHI</th>\n",
              "      <th>wtd avg price $/mwh</th>\n",
              "    </tr>\n",
              "  </thead>\n",
              "  <tbody>\n",
              "    <tr>\n",
              "      <th>0</th>\n",
              "      <td>0</td>\n",
              "      <td>2000-01-01</td>\n",
              "      <td>109.479167</td>\n",
              "      <td>NaN</td>\n",
              "    </tr>\n",
              "    <tr>\n",
              "      <th>1</th>\n",
              "      <td>1</td>\n",
              "      <td>2000-10-01</td>\n",
              "      <td>196.312500</td>\n",
              "      <td>NaN</td>\n",
              "    </tr>\n",
              "    <tr>\n",
              "      <th>2</th>\n",
              "      <td>2</td>\n",
              "      <td>2000-11-01</td>\n",
              "      <td>159.000000</td>\n",
              "      <td>NaN</td>\n",
              "    </tr>\n",
              "    <tr>\n",
              "      <th>3</th>\n",
              "      <td>3</td>\n",
              "      <td>2000-12-01</td>\n",
              "      <td>53.833333</td>\n",
              "      <td>NaN</td>\n",
              "    </tr>\n",
              "    <tr>\n",
              "      <th>4</th>\n",
              "      <td>4</td>\n",
              "      <td>2000-02-01</td>\n",
              "      <td>71.145833</td>\n",
              "      <td>NaN</td>\n",
              "    </tr>\n",
              "  </tbody>\n",
              "</table>\n",
              "</div>"
            ],
            "text/plain": [
              "   Unnamed: 0        Date         GHI  wtd avg price $/mwh\n",
              "0           0  2000-01-01  109.479167                  NaN\n",
              "1           1  2000-10-01  196.312500                  NaN\n",
              "2           2  2000-11-01  159.000000                  NaN\n",
              "3           3  2000-12-01   53.833333                  NaN\n",
              "4           4  2000-02-01   71.145833                  NaN"
            ]
          },
          "metadata": {
            "tags": []
          },
          "execution_count": 21
        }
      ]
    },
    {
      "cell_type": "code",
      "metadata": {
        "id": "fo-S_7QLooSB",
        "colab_type": "code",
        "colab": {}
      },
      "source": [
        "result = dates.drop(dates.columns[dates.columns.str.contains('unnamed',case = False)],axis = 1, inplace = True)"
      ],
      "execution_count": 0,
      "outputs": []
    },
    {
      "cell_type": "code",
      "metadata": {
        "id": "Nnnpp7x428e6",
        "colab_type": "code",
        "colab": {}
      },
      "source": [
        "dates = dates[np.isfinite(dates['wtd avg price $/mwh'])]"
      ],
      "execution_count": 0,
      "outputs": []
    },
    {
      "cell_type": "code",
      "metadata": {
        "id": "Mm2Rj3Ntq6Gw",
        "colab_type": "code",
        "outputId": "4ba44b28-6e5f-48f6-99ca-362c672e8c1e",
        "colab": {
          "base_uri": "https://localhost:8080/",
          "height": 235
        }
      },
      "source": [
        "dates.head()\n",
        "dates['Date'] = pd.to_datetime(dates['Date'])\n",
        "dates.index = dates['Date']\n",
        "del dates['Date']\n",
        "dates.sort_index(inplace=True)\n",
        "dates.head()"
      ],
      "execution_count": 0,
      "outputs": [
        {
          "output_type": "execute_result",
          "data": {
            "text/html": [
              "<div>\n",
              "<style scoped>\n",
              "    .dataframe tbody tr th:only-of-type {\n",
              "        vertical-align: middle;\n",
              "    }\n",
              "\n",
              "    .dataframe tbody tr th {\n",
              "        vertical-align: top;\n",
              "    }\n",
              "\n",
              "    .dataframe thead th {\n",
              "        text-align: right;\n",
              "    }\n",
              "</style>\n",
              "<table border=\"1\" class=\"dataframe\">\n",
              "  <thead>\n",
              "    <tr style=\"text-align: right;\">\n",
              "      <th></th>\n",
              "      <th>GHI</th>\n",
              "      <th>wtd avg price $/mwh</th>\n",
              "    </tr>\n",
              "    <tr>\n",
              "      <th>Date</th>\n",
              "      <th></th>\n",
              "      <th></th>\n",
              "    </tr>\n",
              "  </thead>\n",
              "  <tbody>\n",
              "    <tr>\n",
              "      <th>2001-01-02</th>\n",
              "      <td>92.500000</td>\n",
              "      <td>65.00</td>\n",
              "    </tr>\n",
              "    <tr>\n",
              "      <th>2001-01-03</th>\n",
              "      <td>110.062500</td>\n",
              "      <td>61.25</td>\n",
              "    </tr>\n",
              "    <tr>\n",
              "      <th>2001-01-04</th>\n",
              "      <td>61.520833</td>\n",
              "      <td>59.12</td>\n",
              "    </tr>\n",
              "    <tr>\n",
              "      <th>2001-01-08</th>\n",
              "      <td>57.437500</td>\n",
              "      <td>59.50</td>\n",
              "    </tr>\n",
              "    <tr>\n",
              "      <th>2001-01-09</th>\n",
              "      <td>110.125000</td>\n",
              "      <td>56.61</td>\n",
              "    </tr>\n",
              "  </tbody>\n",
              "</table>\n",
              "</div>"
            ],
            "text/plain": [
              "                   GHI  wtd avg price $/mwh\n",
              "Date                                       \n",
              "2001-01-02   92.500000                65.00\n",
              "2001-01-03  110.062500                61.25\n",
              "2001-01-04   61.520833                59.12\n",
              "2001-01-08   57.437500                59.50\n",
              "2001-01-09  110.125000                56.61"
            ]
          },
          "metadata": {
            "tags": []
          },
          "execution_count": 24
        }
      ]
    },
    {
      "cell_type": "code",
      "metadata": {
        "id": "wlnBfCaxrIMw",
        "colab_type": "code",
        "outputId": "b16164e7-0fe2-44fc-9a3a-287e413cf47f",
        "colab": {
          "base_uri": "https://localhost:8080/",
          "height": 295
        }
      },
      "source": [
        "input_feature= dates.iloc[:,[0,1]].values\n",
        "plt.plot(input_feature[:,0])\n",
        "plt.title(\"GHI over time\")\n",
        "plt.xlabel(\"Time (latest-> oldest)\")\n",
        "plt.ylabel(\"GHI\")\n",
        "plt.show()"
      ],
      "execution_count": 0,
      "outputs": [
        {
          "output_type": "display_data",
          "data": {
            "image/png": "iVBORw0KGgoAAAANSUhEUgAAAYUAAAEWCAYAAACJ0YulAAAABHNCSVQICAgIfAhkiAAAAAlwSFlz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\nQrEAAAAASUVORK5CYII=\n",
            "text/plain": [
              "<Figure size 432x288 with 1 Axes>"
            ]
          },
          "metadata": {
            "tags": []
          }
        }
      ]
    },
    {
      "cell_type": "code",
      "metadata": {
        "id": "ZJXusTe_sQmP",
        "colab_type": "code",
        "outputId": "5d975145-e9e2-4865-9cfb-0badd8bc5375",
        "colab": {
          "base_uri": "https://localhost:8080/",
          "height": 295
        }
      },
      "source": [
        "plt.plot(input_feature[:,1])\n",
        "plt.title(\"Price over time\")\n",
        "plt.xlabel(\"Time (latest-> oldest)\")\n",
        "plt.ylabel(\"Price\")\n",
        "plt.show()"
      ],
      "execution_count": 0,
      "outputs": [
        {
          "output_type": "display_data",
          "data": {
            "image/png": "iVBORw0KGgoAAAANSUhEUgAAAYUAAAEWCAYAAACJ0YulAAAABHNCSVQICAgIfAhkiAAAAAlwSFlz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\nSUVORK5CYII=\n",
            "text/plain": [
              "<Figure size 432x288 with 1 Axes>"
            ]
          },
          "metadata": {
            "tags": []
          }
        }
      ]
    },
    {
      "cell_type": "code",
      "metadata": {
        "id": "uNFAuPDgsXHw",
        "colab_type": "code",
        "colab": {}
      },
      "source": [
        "input_data = input_feature\n",
        "from sklearn.preprocessing import MinMaxScaler\n",
        "sc= MinMaxScaler(feature_range=(0,1))\n",
        "input_data[:,0:2] = sc.fit_transform(input_feature[:,:])"
      ],
      "execution_count": 0,
      "outputs": []
    },
    {
      "cell_type": "code",
      "metadata": {
        "id": "A98zl6v6zwFP",
        "colab_type": "code",
        "outputId": "6e353e60-dae4-43cb-d50f-83b441b9156f",
        "colab": {
          "base_uri": "https://localhost:8080/",
          "height": 34
        }
      },
      "source": [
        "len(input_data)"
      ],
      "execution_count": 0,
      "outputs": [
        {
          "output_type": "execute_result",
          "data": {
            "text/plain": [
              "4256"
            ]
          },
          "metadata": {
            "tags": []
          },
          "execution_count": 28
        }
      ]
    },
    {
      "cell_type": "code",
      "metadata": {
        "id": "efNOrzuZzxob",
        "colab_type": "code",
        "colab": {}
      },
      "source": [
        "lookback= 50\n",
        "\n",
        "test_size=int(.3 * len(dates))\n",
        "X=[]\n",
        "y=[]\n",
        "for i in range(len(dates)-lookback-1):\n",
        "    t=[]\n",
        "    for j in range(0,lookback):\n",
        "        \n",
        "        t.append(input_data[[(i+j)], :])\n",
        "    X.append(t)\n",
        "    y.append(input_data[i+ lookback,1])"
      ],
      "execution_count": 0,
      "outputs": []
    },
    {
      "cell_type": "code",
      "metadata": {
        "id": "DjUOOd0202IL",
        "colab_type": "code",
        "outputId": "03e67c93-4c7c-4ef9-fca7-d99748b159fc",
        "colab": {
          "base_uri": "https://localhost:8080/",
          "height": 51
        }
      },
      "source": [
        ""
      ],
      "execution_count": 0,
      "outputs": [
        {
          "output_type": "stream",
          "text": [
            "(4205, 50, 2)\n",
            "(1326, 50, 2)\n"
          ],
          "name": "stdout"
        }
      ]
    },
    {
      "cell_type": "code",
      "metadata": {
        "id": "l2SuTRm71B5j",
        "colab_type": "code",
        "colab": {}
      },
      "source": [
        "from keras import Sequential\n",
        "from keras.layers import Dense, LSTM"
      ],
      "execution_count": 0,
      "outputs": []
    },
    {
      "cell_type": "code",
      "metadata": {
        "id": "r-Zc0Pn11blC",
        "colab_type": "code",
        "outputId": "c9f7c2c7-a2d9-424a-e79b-5becd746ec9b",
        "colab": {
          "base_uri": "https://localhost:8080/",
          "height": 289
        }
      },
      "source": [
        "model = Sequential()\n",
        "model.add(LSTM(units=30, return_sequences= True, input_shape=(X.shape[1],2)))\n",
        "model.add(LSTM(units=30, return_sequences=True))\n",
        "model.add(LSTM(units=30))\n",
        "model.add(Dense(units=1))\n",
        "model.summary()"
      ],
      "execution_count": 0,
      "outputs": [
        {
          "output_type": "stream",
          "text": [
            "Model: \"sequential_1\"\n",
            "_________________________________________________________________\n",
            "Layer (type)                 Output Shape              Param #   \n",
            "=================================================================\n",
            "lstm_1 (LSTM)                (None, 50, 30)            3960      \n",
            "_________________________________________________________________\n",
            "lstm_2 (LSTM)                (None, 50, 30)            7320      \n",
            "_________________________________________________________________\n",
            "lstm_3 (LSTM)                (None, 30)                7320      \n",
            "_________________________________________________________________\n",
            "dense_1 (Dense)              (None, 1)                 31        \n",
            "=================================================================\n",
            "Total params: 18,631\n",
            "Trainable params: 18,631\n",
            "Non-trainable params: 0\n",
            "_________________________________________________________________\n"
          ],
          "name": "stdout"
        }
      ]
    },
    {
      "cell_type": "code",
      "metadata": {
        "id": "x7yJAH7C1ihk",
        "colab_type": "code",
        "colab": {}
      },
      "source": [
        "model.compile(optimizer='adam', loss='mean_squared_error')"
      ],
      "execution_count": 0,
      "outputs": []
    },
    {
      "cell_type": "code",
      "metadata": {
        "id": "xQZ7JY1t1pI7",
        "colab_type": "code",
        "outputId": "9e075735-1af0-4e11-c860-f48ab6719c89",
        "colab": {
          "base_uri": "https://localhost:8080/",
          "height": 697
        }
      },
      "source": [
        "model_history = model.fit(X, y, epochs=20, batch_size=32)"
      ],
      "execution_count": 0,
      "outputs": [
        {
          "output_type": "stream",
          "text": [
            "Epoch 1/20\n",
            "4205/4205 [==============================] - 40s 10ms/step - loss: 0.0050\n",
            "Epoch 2/20\n",
            "4205/4205 [==============================] - 37s 9ms/step - loss: 0.0040\n",
            "Epoch 3/20\n",
            "4205/4205 [==============================] - 37s 9ms/step - loss: 0.0038\n",
            "Epoch 4/20\n",
            "4205/4205 [==============================] - 37s 9ms/step - loss: 0.0037\n",
            "Epoch 5/20\n",
            "4205/4205 [==============================] - 37s 9ms/step - loss: 0.0035\n",
            "Epoch 6/20\n",
            "4205/4205 [==============================] - 37s 9ms/step - loss: 0.0033\n",
            "Epoch 7/20\n",
            "4205/4205 [==============================] - 37s 9ms/step - loss: 0.0030\n",
            "Epoch 8/20\n",
            "4205/4205 [==============================] - 37s 9ms/step - loss: 0.0026\n",
            "Epoch 9/20\n",
            "4205/4205 [==============================] - 38s 9ms/step - loss: 0.0022\n",
            "Epoch 10/20\n",
            "4205/4205 [==============================] - 37s 9ms/step - loss: 0.0020\n",
            "Epoch 11/20\n",
            "4205/4205 [==============================] - 37s 9ms/step - loss: 0.0019\n",
            "Epoch 12/20\n",
            "4205/4205 [==============================] - 37s 9ms/step - loss: 0.0018\n",
            "Epoch 13/20\n",
            "4205/4205 [==============================] - 37s 9ms/step - loss: 0.0018\n",
            "Epoch 14/20\n",
            "4205/4205 [==============================] - 37s 9ms/step - loss: 0.0017\n",
            "Epoch 15/20\n",
            "4205/4205 [==============================] - 37s 9ms/step - loss: 0.0017\n",
            "Epoch 16/20\n",
            "4205/4205 [==============================] - 37s 9ms/step - loss: 0.0017\n",
            "Epoch 17/20\n",
            "4205/4205 [==============================] - 38s 9ms/step - loss: 0.0016\n",
            "Epoch 18/20\n",
            "4205/4205 [==============================] - 37s 9ms/step - loss: 0.0016\n",
            "Epoch 19/20\n",
            "4205/4205 [==============================] - 37s 9ms/step - loss: 0.0016\n",
            "Epoch 20/20\n",
            "4205/4205 [==============================] - 37s 9ms/step - loss: 0.0016\n"
          ],
          "name": "stdout"
        }
      ]
    },
    {
      "cell_type": "code",
      "metadata": {
        "id": "WItiY39b1t3x",
        "colab_type": "code",
        "colab": {}
      },
      "source": [
        "predicted_value= model.predict(X_test)"
      ],
      "execution_count": 0,
      "outputs": []
    },
    {
      "cell_type": "code",
      "metadata": {
        "id": "cZyo1gMy-xq-",
        "colab_type": "code",
        "outputId": "67d4db39-1e67-4c64-b35f-215f57425efb",
        "colab": {
          "base_uri": "https://localhost:8080/",
          "height": 295
        }
      },
      "source": [
        "plt.plot(predicted_value, color= 'red')\n",
        "plt.plot(input_data[lookback:test_size+(2*lookback),1], color='green')\n",
        "plt.title(\"Price\")\n",
        "plt.xlabel(\"Time (latest-> oldest)\")\n",
        "plt.ylabel(\"Electricity Price\")\n",
        "plt.show()"
      ],
      "execution_count": 0,
      "outputs": [
        {
          "output_type": "display_data",
          "data": {
            "image/png": "iVBORw0KGgoAAAANSUhEUgAAAYIAAAEWCAYAAABrDZDcAAAABHNCSVQICAgIfAhkiAAAAAlwSFlz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\nSFLjLASS1DgLgSQ17htFcEg2/SJ/BAAAAABJRU5ErkJggg==\n",
            "text/plain": [
              "<Figure size 432x288 with 1 Axes>"
            ]
          },
          "metadata": {
            "tags": []
          }
        }
      ]
    },
    {
      "cell_type": "code",
      "metadata": {
        "id": "92Z9JbLl0ban",
        "colab_type": "code",
        "outputId": "ca011084-233e-4d15-e50e-00a54eed8b4f",
        "colab": {
          "base_uri": "https://localhost:8080/",
          "height": 34
        }
      },
      "source": [
        "from sklearn.metrics import mean_squared_error\n",
        "mean_squared_error(input_data[lookback:test_size+(2*lookback),1],predicted_value)"
      ],
      "execution_count": 0,
      "outputs": [
        {
          "output_type": "execute_result",
          "data": {
            "text/plain": [
              "0.0010848040293099108"
            ]
          },
          "metadata": {
            "tags": []
          },
          "execution_count": 37
        }
      ]
    },
    {
      "cell_type": "code",
      "metadata": {
        "id": "Fr06k5g81GMc",
        "colab_type": "code",
        "outputId": "27362f4c-4f3e-4bd5-d813-2313c78e6c87",
        "colab": {
          "base_uri": "https://localhost:8080/",
          "height": 34
        }
      },
      "source": [
        "from sklearn.metrics import max_error\n",
        "max_error(input_data[lookback:test_size+(2*lookback),1],predicted_value)"
      ],
      "execution_count": 0,
      "outputs": [
        {
          "output_type": "execute_result",
          "data": {
            "text/plain": [
              "0.38170734795940875"
            ]
          },
          "metadata": {
            "tags": []
          },
          "execution_count": 38
        }
      ]
    },
    {
      "cell_type": "code",
      "metadata": {
        "id": "5GN02Cl5rLY5",
        "colab_type": "code",
        "colab": {}
      },
      "source": [
        "import pickle\n",
        "filename = 'finalized_model.sav'\n",
        "pickle.dump(model, open(filename, 'wb'))"
      ],
      "execution_count": 0,
      "outputs": []
    },
    {
      "cell_type": "code",
      "metadata": {
        "id": "MoZ7LBbcmp5a",
        "colab_type": "code",
        "outputId": "c2cc2e1a-e015-46f1-a972-e1a58eaf7d1f",
        "colab": {
          "base_uri": "https://localhost:8080/",
          "height": 295
        }
      },
      "source": [
        "import pickle\n",
        "filename = 'finalized_model.sav'\n",
        "# some time later...\n",
        " \n",
        "# load the model from disk\n",
        "loaded_model = pickle.load(open(filename, 'rb'))\n",
        "loaded_predicted_value= loaded_model.predict(X_test)\n",
        "plt.plot(input_data[lookback:test_size+(2*lookback),1], color='green')\n",
        "plt.plot(loaded_predicted_value, color= 'red')\n",
        "plt.title(\"Price\")\n",
        "plt.xlabel(\"Time (latest-> oldest)\")\n",
        "plt.ylabel(\"Electricity Price\")\n",
        "plt.show()"
      ],
      "execution_count": 0,
      "outputs": [
        {
          "output_type": "display_data",
          "data": {
            "image/png": "iVBORw0KGgoAAAANSUhEUgAAAYIAAAEWCAYAAABrDZDcAAAABHNCSVQICAgIfAhkiAAAAAlwSFlz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\nT+8jpg7GzAAAAABJRU5ErkJggg==\n",
            "text/plain": [
              "<Figure size 432x288 with 1 Axes>"
            ]
          },
          "metadata": {
            "tags": []
          }
        }
      ]
    },
    {
      "cell_type": "code",
      "metadata": {
        "id": "EQnDNn1msJKX",
        "colab_type": "code",
        "colab": {}
      },
      "source": [
        "predicted_value = np.c_[predicted_value,input_data[lookback:test_size+(2*lookback),0]]"
      ],
      "execution_count": 0,
      "outputs": []
    },
    {
      "cell_type": "code",
      "metadata": {
        "id": "nF2Ay1_A1frM",
        "colab_type": "code",
        "colab": {}
      },
      "source": [
        "inverse_scaled_output = sc.inverse_transform(predicted_value[:,:])\n",
        "inverse_scaled_actual = sc.inverse_transform(input_data[lookback:test_size+(2*lookback)])"
      ],
      "execution_count": 0,
      "outputs": []
    },
    {
      "cell_type": "code",
      "metadata": {
        "id": "csZT0RkI2xRx",
        "colab_type": "code",
        "outputId": "15f15d0c-e57f-452c-89c6-b4d06bb1b7cb",
        "colab": {
          "base_uri": "https://localhost:8080/",
          "height": 295
        }
      },
      "source": [
        "plt.plot(inverse_scaled_output[:,0], color= 'red')\n",
        "plt.plot(inverse_scaled_actual[:,1], color='green')\n",
        "plt.title(\"Price\")\n",
        "plt.xlabel(\"Time (latest-> oldest)\")\n",
        "plt.ylabel(\"Electricity Price\")\n",
        "plt.show()"
      ],
      "execution_count": 0,
      "outputs": [
        {
          "output_type": "display_data",
          "data": {
            "image/png": "iVBORw0KGgoAAAANSUhEUgAAAYUAAAEWCAYAAACJ0YulAAAABHNCSVQICAgIfAhkiAAAAAlwSFlz\nAAALEgAACxIB0t1+/AAAADh0RVh0U29mdHdhcmUAbWF0cGxvdGxpYiB2ZXJzaW9uMy4xLjEsIGh0\ndHA6Ly9tYXRwbG90bGliLm9yZy8QZhcZAAAgAElEQVR4nOydd5hU1dnAf+/M9mXpCEgVEBUb3S6K\nKGLvLSoiipXEHk3U4KdGjRoTSzTYNYpdscSCiAWjIkhXkN6blGV3YdvM+f44d/qd2dllZ3cG3t/z\n7DP3nlvmzOzc8563HjHGoCiKoigAnsbugKIoipI+qFBQFEVRgqhQUBRFUYKoUFAURVGCqFBQFEVR\ngqhQUBRFUYKoUFCUekREPhaR4Y3dD0WpK6J5CoqSGBFZCrQFfEAZ8DFwrTGmtDH7pSipQDUFRUmO\nk40xTYC+QH/g9vCDYtHnScl49EesKLXAGLMKqynsJyJfisi9IvItsA3o5rRdFjhfRC4XkV9EpERE\nfhaRvk777iLytohsEJElIvL7xvlEihKJCgVFqQUi0gk4AZjuNF0EjAKKgGVR554NjAEuBpoCpwAb\nHY3iA2Am0AE4BrhORIY2wEdQlISoUFCU5HhPRLYAk4GvgL867S8YY+YaY6qNMVVR11wG/M0Y86Ox\nLDTGLAMGAG2MMf9njKk0xiwGngbOa6gPoyjxyGrsDihKhnCaMebz8AYRAViR4JpOwCKX9i7A7o6Q\nCeAFvtnRTirKjqJCQVF2jETheyuA7nHalxhj9kxNlxSl7qj5SFFSxzPATSLSz4lO6iEiXYApQImI\n/FFE8kXEKyL7iciARu6voqhQUJRUYYx5E7gXeBUoAd4DWhpjfMBJQG9gCfAbVoA0a6SuKkoQTV5T\nFEVRgqimoCiKogRRoaAoiqIEUaGgKIqiBFGhoCiKogTJ6DyF1q1bm65duzZ2NxRFUTKKadOm/WaM\naeN2LKOFQteuXZk6dWpjd0NRFCWjEJFl8Y6p+UhRFEUJkjKhICJ5IjJFRGaKyFwRuctp30NEfhCR\nhSLyuojkOO25zv5C53jXVPVNURRFcSeVmkIFMNgYcyA2c/N4ETkYeAB4xBjTA9gMjHTOHwlsdtof\ncc5TFEVRGpCUCQWnVHBgucJs588Ag4G3nPYXgdOc7VOdfZzjx4hThlJRFEVpGFLqU3AKfc0A1gMT\nsGWEtxhjqp1TVmIXGcF5XQHgHC8GWrncc5SITBWRqRs2bEhl9xVFUXY5UioUjDE+Y0xvoCMwENi7\nHu451hjT3xjTv00b14gqRVEUpY40SPSRMWYLMAk4BGguIoFQ2I7AKmd7FXZREpzjzYCNDdE/RVEU\nxZLK6KM2ItLc2c4HjgV+wQqHs5zThgPjne33nX2c41+YTC3hOmcOTJ7c2L1QFEWpNalMXmsPvCgi\nXqzwecMY86GI/Ay8JiL3YBc/f9Y5/1ngZRFZCGwik9er3X9/+5qhMk1RlF2XlAkFY8wsoI9L+2Ks\nfyG6vRw4O1X9URRFUWpGM5oVRVGUIBld+yhdebMXrC6CPzR2RxRFUWqJCoUUcM459lWFgqIomYaa\njxRFUZQgKhQURVGUICoUFEVRlCAqFBRFUZQgKhQURVGUICoUFEVRlCAqFBRFUZQgKhQURVGUICoU\nFEVRlCAqFBRFUZQgKhQURVGUICoUFEVRlCAqFBRFUZQgKhQURVGUICoUFEVRlCAqFBRFUZQgKhQU\nRVGUICoUFEVRlCAqFBRFUZQgKhQURVGUICoUFEVRlCAqFBRFUZQgKhQURVGUICkTCiLSSUQmicjP\nIjJXRP7gtI8RkVUiMsP5OyHsmttEZKGIzBeRoanqm6IoiuJOVgrvXQ3caIz5SUSKgGkiMsE59ogx\n5qHwk0WkF3AesC+wO/C5iPQ0xvhS2EdFURQljJRpCsaYNcaYn5ztEuAXoEOCS04FXjPGVBhjlgAL\ngYGp6p+iKIoSS4P4FESkK9AH+MFpulZEZonIcyLSwmnrAKwIu2wlLkJEREaJyFQRmbphw4YU9lpR\nFGXXI+VCQUSaAG8D1xljtgJPAt2B3sAa4OHa3M8YM9YY098Y079Nmzb13l9FUZRdmZQKBRHJxgqE\nV4wx7wAYY9YZY3zGGD/wNCET0SqgU9jlHZ02RVEUpYFIZfSRAM8Cvxhj/h7W3j7stNOBOc72+8B5\nIpIrInsAewJTUtU/RVEUJZZURh8dBlwEzBaRGU7bn4DzRaQ3YIClwBUAxpi5IvIG8DM2cukajTxS\nFEVpWFImFIwxkwFxOfTfBNfcC9ybqj4piqIoidGMZkVRFCWICgVFURQliAoFRVEUJYgKBUVRFCWI\nCgVFURQliAoFRVEUJYgKBUVRFCWICgVFURQliAoFRVEUJYgKBUVRFCWICgVFURQliAoFRVEUJYgK\nBUVRFCWICoV6xhjT2F1QFEWpMyoU6hmDCgVFUTIXFQqKoihKEBUK9YyajxRFyWRUKNQzaj5SFCWT\nUaFQz0RoCqo1KIqSYahQSCUqFBRFyTBUKNQzEeYjFQqKomQYKhTqGXU0K4qSyahQqGdUU1AUJZNR\noVDPqKNZUZRMRoVCKlGhoChKhqFCoZ5R85GiKJlMjUJBRHqKyEQRmePsHyAitydxXScRmSQiP4vI\nXBH5g9PeUkQmiMgC57WF0y4i8qiILBSRWSLSd0c/XGOgjmZFUTKZZDSFp4HbgCoAY8ws4LwkrqsG\nbjTG9AIOBq4RkV7ArcBEY8yewERnH2AYsKfzNwp4shafI21QTUFRlEwmGaFQYIyZEtVWXdNFxpg1\nxpifnO0S4BegA3Aq8KJz2ovAac72qcBLxvI90FxE2ifRv/RFhYKiKBlGMkLhNxHpDnYKLCJnAWtq\n8yYi0hXoA/wAtDXGBK5fC7R1tjsAK8IuW+m0ZRQafaQoSiaTlcQ51wBjgb1FZBWwBLgw2TcQkSbA\n28B1xpitIhI8ZowxIlKrkVNERmHNS3Tu3Lk2lzYIaj5SFCWTqVEoGGMWA0NEpBDwOKagpBCRbKxA\neMUY847TvE5E2htj1jjmofVO+yqgU9jlHZ226P6MxQop+vfvn3ajrjqaFUXJZJKJPvqriDQ3xpQZ\nY0pEpIWI3JPEdQI8C/xijPl72KH3geHO9nBgfFj7xU4U0sFAcZiZKWMI1xSM39+IPVEURak9yfgU\nhhljtgR2jDGbgROSuO4w4CJgsIjMcP5OAO4HjhWRBcAQZx/gv8BiYCE24unq5D9GemKMCgVFUTKL\nZHwKXhHJNcZUAIhIPpBb00XGmMmAxDl8jMv5Buu/yGjU0awoSiaTjFB4BZgoIs87+yMIhZQqUaj5\nSFGUTCYZR/MDIjKL0Oz+bmPMp6ntVuYSrimo+UhRlEwjGU0BY8zHwMcp7stOh/H5GrsLiqIotSKu\nUBCRycaYw0WkBCJWoxesC6BpynuXgWiegqIomUxcoWCMOdx5LWq47mQ+EeYjv2oKiqJkFglDUkXE\nKyLzGqozOwMRjmb1KSiKkmEkFArGGB8wX0TSr55EmhIRkqrRR4qSvvznPyACazIuRzalJONobgHM\nFZEpQFmg0RhzSsp6tZOgjmZFSWOeeca+zpsH7TO7IHN9koxQuCPlvdiJUPORomQYEi/HdtckoVAQ\nkdOAHsBszU1IjkjzkUYfKYqSWcT1KYjIv4DrgVbA3SKiGkMSRGY0q/lIUdIWDRl3JZGmcCRwoDHG\nJyIFwDfA3Q3TrZ0DLXOhKBmAmo8iSBR9VOlEH2GM2Ub84nZKGBp9pCgZgmoKriTSFPZ2ah6BFQjd\nnf1ARvMBKe9dBqKOZkXJEAJCQTWFCBIJhX0arBc7EZrRrChKJpOozMWyhuzIzoKWzlYUJZNJZuU1\npa6ozVJR0h81H0WgQqGeUfORomQIOmlzpUahICIni4gKjyRR85GiZAjqaHYlmcH+XGCBiPxNRPZO\ndYcyHQ1JVRQlk6lRKBhjLgT6AIuAF0TkOxEZJSK6zkINqKagKEqmkZRZyBizFXgLeA1oD5wO/CQi\no1PYt4xE8xQUJUNQ85EryfgUThWRd4EvgWxgoDFmGHAgcGNqu5d5qPlIUTIMFQoRJFM6+wzgEWPM\n1+GNxphtIjIyNd3KXLQgnqJkCBp95Eoy5qO10QJBRB4AMMZMTEmvMpiIkFT90SlK+qOaQgTJCIVj\nXdqG1XdHdkrUfKQoSoYR13wkIlcBVxMqhBegCPg21R3LVNTRrCiZwfyCbSzpAcc3dkfSjESawqvA\nycB45zXw188JU02IiDwnIutFZE5Y2xgRWSUiM5y/E8KO3SYiC0VkvogMrfMnamQiM5pVKChKurL3\nkbMYdiGRvoXvvoOpU+12aSk88sgup/EncjQbY8xSEbkm+oCItDTGbKrh3i8AjwMvRbU/Yox5KOp+\nvYDzgH2B3YHPRaRnYD2HTCJCU/BlXPcVZdcjXCgcemio7eab4amnoHt3OOWUxulbI5BIKLwKnARM\nAwyRi+wYoFuiGxtjvhaRrkn241TgNWNMBbBERBYCA4Hvkrw+TVFHs6KkPQFNIDowZJMz7922rWH7\n08gkKp19kvO6Rz2/57UicjEwFbjRGLMZ6AB8H3bOSqctBhEZBYwC6Ny5cz13bceJMB+ppqAo6U/g\nma2ubtx+pAnJJK+dLiLNwvabi8hpdXy/J4HuQG9gDfBwbW9gjBlrjOlvjOnfpk2bOnYjdUQ6mlVT\nUJS0J55Q2EVDVZMJSf2LMaY4sGOM2QL8pS5vZoxZZ4zxGRuW8zTWRASwCugUdmpHpy3jiBAEGn2k\nKOmP88yaqir2uQbG7ed+fFchGaHgdk4ymdAxiEj7sN3TgUBk0vvAeSKSKyJ7AHsCU+ryHo2NOpoV\nJbMIRAmWV5Qyrw2MqKsdZCchmcF9qoj8HXjC2b8G63xOiIiMA44CWovISqx2cZSI9MZ6YJcCVwAY\nY+aKyBvAz0A1cE0mRh5Fo+YjRUl//P5qvMD28lIA8gJWpID5aBd7jpMRCqOBO4DXnf0JWMGQEGPM\n+S7NzyY4/17g3iT6k9ao+UhRMotqRyhsKy8BIDfa3+z3W8Gwi/gYkllPocwYc2vAuWuMuc0YU9YQ\nnctEdOU1RcksfC+9CIsWsa0iSlMIcNFFsHeS64tVV8Pjj0NlZf12sgGJKxRE5B/O6wci8n70X8N1\nMbPQjGZFySyq33oDevSILxQAfv01uZs9/zyMHg0P1zqwMm1IZD562Xl9KME5SkJ2LVukomQi1c7U\nOCAUch1v5uMtFvDCKJg6thY3Ky+3r6tX118HG5hEyWvTRMQLjDLG/K4B+5TRaEE8RcksAkKhqsoO\n6FnOYzu6bY3xNLEUFNjXssy1sCf0KTgRQF1EJKeB+pPxRJqPVFNQlHQnIBSqq6wfwBP12NbqKc7N\nta8VFTvcr8YimeijxcC3jh8hKP6MMX9PWa8yGBPxE1KhoChpybvvBjcDQsFXbYWCGCJm+tUeyE5W\n6Q84mLPqlMqVFiSTvLYI+NA5t8j5a5LKTmUy6mhWlDSnvBzOOCO4G9QUqsM0hYBvACivzfgeuC6D\nhUIyPf/ZGPNmeIOInJ2i/uxUaPJaA3DBBXDqqXDuuY3dEyVTWL48YjeoKfiqAKcc9PbtweMVWVCU\nbIRp4LoMFgrJaAq3JdmmoI7mBmfcODjvvMbuhZJJbIpcCsbn5KRFaApffBE8XhtNYd7mBdxzJJin\nx8K6dTva00YhUZ7CMBF5DOggIo+G/b2ALUWhuBCpHezEmsJpp8GAAY3dC0WpPVVVEbsbCq224Kt2\nNAUDDB8ePP7FHrA2YDA3BmbOjHvrU8047hgM6wqB32Vm0GYiTWE1ds2Dcmyto8Df+0DGLpeZaiIz\nmndioTB+fGjZQkXJJKqqmNU2tDtoBFx2Ssh8FB19NPx0GHC5s/PSS9C7N3z0keut/T47X96YD2zZ\nUs8dbxgS5SnMBGaKyLtAWaBAnZO7kNtA/cto1HykKOnH57/9wLFXRba9vi8cG+5TiGJlYEWZ2bPt\n688/w4knxpxXVCWQb7WPaI0kU0jGp/AZkB+2nw98npruZD7qXFaU9ObX0uUxbUWVIfNRtKYQgddr\nX93K4v/yC8YJZa30EhHBlEkkIxTyjDGlgR1nuyB1XcpswrUD1RQUJf0Ql1DxphVQ7QvzKcQjEFXk\ntnTnmWdS5ciMag87tVAoE5G+gR0R6QdsT3D+Lk1EnoIKhdSiWplSBzzLV8S0Na0An+MP8JhQRFIM\nAaHgpiksWkRVIOfBAxx88I53thFIRihcB7wpIt+IyGTsugrXprZbmUuEINAxK6VUVpUzehisL2zs\nnigZw5w5eD76OKY5QlMAXugd5/qA+chNU6isjNQU2rePPScDqDEC1xjzo4jsDezlNM03xmSmB6Uh\nUE2hwRj/y3s8fhD8VgDjGrszSmawYIGrI7moAnz+kE+h1K3aW0lJSCi4Fbzbe29KcuYBjlDI0DUV\natQURKQA+CPwB2PMHKCriJyU8p5lKJHJazuvqtD8VvjTMY3bB+O3Knx1MvquogBs3epqGmpaCdWO\n+UhMnAzmBQsgx5EWjzwSc3h20TZ+c7TWX1ux8woF4HmgEjjE2V8F3JOyHmU4keajnVcoFOfBfUc0\nbh/E+X6NYDObNW9CqQFTWcmCVrHtudWRPoVCt/F8y5aQpuDCASeGopruGAw/SmauqZCMUOhujPkb\nUAVgjNmGeyivQmTCWmAmq6SGQJSIAVsDSesfKTXw6LZJPHxobLsHodof8ilUuY39lZW1yj1YajIz\neS0ZoVApIvk4z56IdAcyt1h4A7Izm4/SAfGHaQoAixc3XmeUjODbCvdlNcVvIjSFSjehUFFBSUUJ\nc9sk9155VZnpU0xGKPwF+AToJCKvABOBW1LaqwwmMk9BhUIqCZqPAg15eY3WFyUzKIpTjEGA6vk/\nAzYcdXo7l5NOO40zNz3Jftc4IatuYalh5FVmplBIJvpogoj8BByM/e7+YIz5LeU9y1B2FZ9COhAQ\nCtUeuH4ojJ6XQ7dG7pOSRsyZA2vWwLHHBpuaJqjQ4/vtN+gCn+wZ/5aTm9gKq5vzoXVVVYSPIb8K\nOnqas8BrzUZ+t7DVDCCuUAhPWHNY47x2FpHOxpifUtetzGWXS15btQo6doTJk+Gwwxr0rQM+ha+6\nwod7wfwOFfy3QXugpDX7729fw57JIuO+srBPQqWzE1FUAduzbcG71hUVMdrp0aYLC7BCodKXmdFH\niTSFhxMcM8Dgeu7LTkGkUNgFNIVJk+zrv/7V8ELB8SmUOJO/llWZu7CJ0jAUGPffiF/AV1XzIN6k\nEtYDGwuICDk1fj/lWVBoQkKi0r+TCQVjzNEN2ZGdhl1lPYU0INoh1tyX3Sj9UDIHn3H3A/gFqhMW\nPbLnBPIXVhcRIRSqqyowAoUSMk9V+jMzxzfRIju3hG2fHXXsrzXdWESeE5H1IjInrK2liEwQkQXO\nawunXZwFfBaKyCwX01XGsCs4ml0/lzR8lHL0M5yVVNyEsqvwt8Pgg56RbZU+94HaLwnqHQWu9Vrz\nEcDZ5wCHHx48VlFua4Y28YZqhVYuX1rbLqcFiZ6i8DUOo5ffPD6Je7/gct6twERjzJ7YKKZbnfZh\nwJ7O3yjgySTun5bsCstx+tPFmR6VB+JVoaCE8cdj4ZQLItuqTDVZPmhdFelb8EvNmfHlWdAsPBh/\n6VLnplVUlNuyFwXePMadaYuuVHqBtWvr/gEaiURfg8TZdtuPwRjzNbApqvlU4EVn+0XgtLD2l4zl\ne6C5iGRkNamIWfROqin43YRdI2gKgbjyAFk7mlM5a5Zd7zlDo0aUGti0iapVy8nxgT9KzfQL+JIQ\nCrnOT2PgSqdx/HjIyaHiMxvikJuVyzF72PovlV6gIvNSuhJ9DYmM43Ud7doaYwJRTGuBwKJ4HYDw\nerYrnbYYRGSUiEwVkakbNmyoYzdSyC7gaHbVFNJAKOywpnDBBfD66zBv3o7dR0lPhg6lctkSsv2x\npqJkNIUKL1Q4Xlhv4NH+4AMAyse/DUBuyzbkeK0WUuklIycYib6GA0Vkq4iUAAc424H9/Xf0jY0d\nMWs9ahpjxhpj+htj+rdpk2RqYQOyK0QfhZvIGlMo+KPMRzvsUwgsvtIIn0VJIfPmwdtvw7RpVHkh\n2wd+XDSFGv7t33UKZTqXB0J01q0DoGLdKgBy27TPeKGQKPoofuWnurNORNobY9Y45qH1TvsqoFPY\neR2dtowjI5LX1q+HH36Ak0+u0+Xp4lPwRTkNvVJPQsGjvolMJ+I3us8+9jUnhypPJTk+2O4mFGr4\nt59/lk1QA6s1ADY5DqhYOB+GQF5+UcYLhYb+9b8PDHe2hwPjw9ovdqKQDgaKw8xMGUVGLMd5wglw\nyilQWlrzuS6EP3Ab33+d5/qQFuYj2cE+fNm6lBcPRIXCToBr4lhOjtUU/OBz8SkkU4J9uxP1HNQU\npk0DQkIiN7cQr8eLB48VCrUooJcupOzXLyLjgO+AvURkpYiMBO4HjhWRBcAQZx/gv8BiYCHwNHB1\nqvqVaiIdMWmqKQQKx9XRCRYuFC4q+ISRp8LP2Q1fETJaU/B5dkwoHH3sKi45HTUf7QSUV7usj5yd\nTaVjPvJFPZvv7WMXa0r6/lnu+7l5dkGFHMnKWE0hZSmgxpjz4xyKWZrF8S9ck6q+NCgZ4FNY0kL4\npDtcVccfbLhQCCyFWeZp+DLh0ZqCv74Gc9UUMp6KapcJT3Y2VR7I8cVqCgDfd4zcL761mGb3N3O9\nf0nLQqCMKg/81D7kgM7NdYSCJ4tKb6UKBSUzfAqDzihmRRO4eFsxhcEAsOQJFwpZzmaVNLypLNrR\n7Pag1wkVChlPhS8kFFY0tYKgbZj5yO8yfyiOKrLbNLep670LswspqSrj74fAyqbwyCHwwAR7LC+/\nCIAcyc5YTUF//fVMJhTEW5tvB1OpB00h2xmXayoRkAqizUfRESV1Jk2FuZI84eajzjdAu5sJagrZ\nO6jUtiqwS7fdOBQmd7Ztyx2FonmRjYj8rbqYt3sBRxxhQ50zCBUK9UwmhKQGVpXyVe24T2GDYz6q\nbgRNIcZ8VF9C2N9IwnzjRjj1VPhNK9PvKBWV22Mbs6ydPydMKPyt6ZkRp7RNIvbCK6HAzDLH8bw1\nUJSxaUjzXtfE2Rg3LvYm8+fDihV2ic8ZM2p+0wZEhUJ9k0EZzf4kqkK6Xhc2+M5vbV+rGkNT8EcK\nhWjnYZ1prP/bv/4F778P//hH47z/TkT5kgWxjR5P0HwUoGdOZOGE9h33dr3fa2e+Fty+c9Cdwe1t\njlBY28TW4mpW0AKAPE/8dRsA2Htv6NwZjjkG+vRJfG4Do0Khnsmkgni+CpcIjSRwm5FXN0KklT9q\n5Ss/Ga4pFAa89mXw1luwcGHj9GMnoOSJv8e0jemxkq+6RpqPsj3ZfPl8aL996z0A6Ne+X8S17ZrY\npdhuOuQm2haGtIEtjh9ibRMorASPkyszvOOJ7JZMxPdP6bcsjQqFeiaiIF66hqQ6+Ct33HwUoFIa\nI/ooKiS1uJ7CYhtJKGzMN3zZFZs/cvbZ0K9fTZfUjvfes+G2ThbuzszJXb+LabtrgC1aZ8KczFne\nbAa9+xO7ibX1rCpZxYabN/DVJV9FXNuzVU/mXDWH+4bcFxz4IWSKnd020iyV7c2JzXtYtix+hxtr\nIuKCCoV6JpMK4vnqUSiUexr4R11djW/u7Igmf2UFrF694/dupP/b8NL/cPQlsGmjU21t69b6fYNH\nH7Wvc+YkPm8nYJv7AmtAZJJatjcb+vRhvbHT+lnrZtG6oDWFOYUR1+Rn57PvbvuS5cnC6wnzKYS9\nT7hQyGrSNCgwAHj3XejaFT75xL1TNaz33JCoUKhnMiKj2aE+NYXyVGsKM2faWe5XzgzunnvwfR85\nG/QJ1lm7ozTSrG2trxiA+TMnpuYNAgOPNxUVbDIHb5jMz/ImXpjpwWMf5IjOR9A8r3mwbcDuA1zP\nDY9yzWrSNFJTmDrVvsYzF6VR6KoKhRSS9j4Ffx1DUv2xAiDVQmHehHH8eTCYt960DUuWuFa6rA/8\nvsZ5QPPEDlAlUsWdR0NxDb7KWpNuQsEY+PFHWLKkXm/rC/t9utn1c/yhYS9aKHRu1jli/6ZDb+Lr\nEV9HtDXLa8YbZ70Rc981RaHtbG92SCjk5YW+c78fTj6ZhS3D6idB6H/zwgswYYLr52ooNHmtnsmE\n5LUAboN7XEpKoKgo7nUVKQ5JPXP7i/x8JIzaUEwXAI8nRgj4PNSLGu775GM828vhkEN2+F61IeCD\nGrcfvNAHtuzRnkfr8f6/5payqAcMy0qTx/7qq+Gpp+x2PT4r4YlrbvWMcowHnKCEbG+knWn6FdOT\neo/crMQSO8uTRZUXvtgDeq+roGUg297vZ+uED9nzNrhoJpTm2NI47wZ+tyNG2NdGHDvS5Nex8xCR\np5DmjuboOP+4vP02nHUWTJkCAwa4awop9ikEIos2si0oFMKrWnYsdjSFOtZzCp9d+u74M9nVNPiD\nGfjtBGLet+fWryK/15Ez7fukiabw1cdPIV3gyGXA9On1FpoZXgzPTSgU+bMA+9uP1hRa5rdM6j1y\nvYmFQrbH3veY4XDocsO3gUHf52O7M+p+0iOU56M+hZ2YTEheC5C0pvD55/b1xx/jXlcuqTW5NDH2\nIVtb6Szm5/FEmI9yfNiHrbxuYbYbt4d8EclUy0wFAV9NcCEXX4p+P2kiFI4aAYNGwOoioG/9Lcte\nWWV/A/lVofUPwnno+o+D2wGhMP688dx11F1Jv0dNFXmzPKH59sx2hCYrVVXB6KcITTeRT+HUU2HU\nqKT7tqOoUKhvwv+5aS4UkvYphNtDiSMUZqY23jogFNZU2MF7s7eKWU64+PhBT9FzI8xrTZ2FQnhZ\nhE96wKb8HepunQiYHpc6Ps2cinoStO+8A//8Z2g/zarAnnpegoOBir61oDKwXrLPQ3mUH3nYAmjX\n/6jgfna2nfGfstcpEUlpNbF5++aEx8OFgscA3zlBEffdFxRUET4xR1P4oYNTrXX9evj+e3vs/ffh\n6aeT7tuOokKhnjH/F5pt7DSaQqBAnPPDdYs+qkjx5LPQbx+ytVjP4aDWH/DePjYR6ZSuQ2lb5gzk\ndRQK1WEC8uxzahioUkTg9z2U3YkAACAASURBVDLPyRLP31JWP/c980y47rpQQxrFxIOjKbjxzjvQ\nvTt8+GGt7ldVaX8DBS6r5nijPnqWN0HsagJO2euUmAS3cLLDzFJi4LGqb5ExVjuocrrljxIKxeXF\nHHw5DPsdcNBBDe7TCqBCwY3p0+H00+s0SzFhcfKmvjJsU0TSPoUkNIVUm1wCs+ht2IS12dnWjOQx\nQFYWuSeeamdg9SAUAObu5nJSWRn87W/wyCMp0QIDwjYwlpVWle24rdkYPGPgzHPC2sLs2/z7342+\nEMzqpjChm8sBZwEbpifn/A1Q6dQ9KjSxLlNv1L8tKytxSGo88rPzmTpqatzj0ZrCjUPtdmkO3DrE\nbkfIrOpqtlbYvJSpHYClS217IwhwFQoumL59mfvte3DGGUlfM3f9XOQu4eywh2+n1RRchEmqhUKl\nse9ZZaptJJSDTwCvl5wmzawtvp6Eghu+q66g6rY/wg032GJm9Ux0XktJLrBtW91veM89wf/dO71C\nzcFM8OefhyuvhIceqvt71BNnnuvSGDBzxXuOSkthc6wZJyAUCkxowG/m/CyiNYVsSU2sTcDRDNC+\nNFRi/p194K197XZ44hs+H9srYzVDU1bG74fB1N2xOTiJsqLrCRUKLjzTF/a7Br5oWZz4xDffDGad\nvjr71djjaS4UkvUp3JM3hWMuJqQpmFhhUpVi81GFIxSqN2+EpqE699VewOslNzffmrDChcLKlUnP\ngqujKsa6/edOavoROXfChgLqvZLp3XcexU/+yGXJS3Ko85KpAGO+uJMDroptr6p2onMCA2p9JPzt\nIDHftzEs/fwtuzxqvOeoXTto6UQLTZ0Ka9cCUOn4hwokNOq2ELusWvTkJWtrCTvCpOGT+OGyH2La\ne7TsEdxuVh6qt5Qb75Hz+di+PdSXObvB/FZQunkdjx0Egy4BWre2WdEpjlRSoeDCjx3s668t4w/q\nK6d+wfBXz2H75TaueO2CWBV3Z9AUfH4fd+RM5otu8N7Kz53rXAriNZSm4HMZ5L1ecnIKIs1HpaXQ\nqZONhU+C6spIDcO4+GI/aWNrK+12C1QMrN+6RHd6v4ppK8nFakVPP21LLdeSuwYZZrusoVR5150R\n2hZgB5qSErjrLnjttdiLGpoHH+SYg+ZzyelQbqrgtNNsaHSAJ56w5rwAAwbAAQcAYT4FT5hQ8NuZ\n+/Yoa1FWWd00ywBHdT3K1bcQngRXlhOqzLrSfd0eGDeO8hEXBXf3vxr2Hg3bVy0FokxN213Kgtcj\nKhRcCDiAPNnxnVB/nvEwL/WGNyutMPBVxv640j5PIQmhUFwR0pZmzLaZlmbtmpjzUi0UKpy48jVF\n8HC0/y0ri9zcAqq94N9uzS3m3XeZ3wr3WvYuxAiFGs6PHlxSwdZcbBjwqFHwxz/W6tqVW5bHPbZ5\n2rdwzz0YY4KRMJuvu4IN7ZrCmDFwfryVdFNHtBD+6KNHWOwoAaUzpsD48TZXxmHKA7/nhd5RN9mw\nAQiFpBZ4QkupNffZZzl6beXsM87e4b57PV5uOPgGvr3022BbQXZowefZbWGjs3vLcXFuMmYM2xfH\nCv6yE44FbJiyXxxzaVn9BCDEQ4WCC4EBwZPACVXotTGLxY5e6Hf7JncCTSE89K6oAqiqwn9urAE4\nEFHB2rVw/PGwaVM99dJS6Zis3u4FNw2NOuj1BtfGrSwvg7vv5ou/XMzeo+GZvZJ7gKKFQk1Mb1er\n0+vEljzwrVjOYwNh+8JfanXtjOVT4h7rej1s+m0Ff6meQO4dsM1U0qrVs+x2y472uAYSxOJHPynn\nH7E+uL3+fxMYeUpoPXCAg0b6GXGac21VFWP7WScuhIRCYVYorriF34aebo8SCln5kYXv6srDQx/m\n0E6HBvfDhUIy+CW2bxDpd+hzBXS+HhUKjUFQUyDWhjBpySR+2fALTbPtj6nEawcr4/KDT3fzUTI+\nhU3bQ4O7X8C0bMEjLpFy1UXOw/XQQ/Dpp/Dcc/XVTQAqEtVW8nrJccoOVNx/L9x5J6scNf2LPZK7\nfzLmo3AGX0JKI0P2b9KdzXnw4ht/4vcnwMN7RQrZ4tOGUdGrZ9zrvZWJ/7dTyxfzXJUVHBulPPh5\n/zXArmlc73z8MWRnw+zZroejv++SsJVwxvaD5/rC7YNjr1tfCJNmvMsVJ8P1zmQhIBSaZIcG/BbV\ndsSN1hTCo4Tqk9oKhd8K4GSXVTufDsvpm9XORmrx9dexJ9YjKhSiGTeOF5xs+wqX0g2DXxpMr3/1\nwhP1K/a7ODTTXSi4OYyj2Vwe0hR8HpifV8br+8WeV+VxPmsgUqm+BsyKCnjiiaBPwRWvN1h2IPDQ\nBxKDPEn+C5JxNMdelLos7mPaHcKWPFjomFCii/817/MJxw90WV3MYWtJYkf4jyt+IH+jDZIokVBZ\niGtOhEMuq1ufAejWDQ4/PLY/X0/gm87Y4AxiTZcGQg7UVZEO90CSosnJtj6iq0Le832ugdIRvwOc\ngnRbt1Ll/C+b5DQJntfCYwfpGJ9CioRCTg35D91KIzvS9uYov4HDowfHtlVeNmJHulYjKhSiCVtk\ne3uCej7VTgRHINTMX+0W5ZLeQiEZn0K4puAT2Jznfl51ICcjrPBXfVDyt3v4Zcy1bK9OYN7xemmW\nZ1dOL3b6V+KUpokOQYxHtZsDu8aLUiMUxEDrJm2p9oYyq5tVxT6qXybQgraWJo4oWtIC8p3ub379\nxYhjq+qoKZjSUu7ptIQ5C76NOXZO1asceSks99nfU5U/8vs2gi2PDpRsjPRZTXI+p+TkcPv8J3ns\np6eCxzYVhLR0A9CsGZWvvQJATk6Y+WiotTUFJg0dm3a090xRdndN940XhbRv1u609DZxP+gwfq+6\n9io5VCiAtdFdeCGsXRuRZVi9YL5dN9cFnyMEvI7G4GafN2mWORpNMkIh3Kfg88ChcWaR1RKlKdST\nlnRW9Sv0uhZ+S2T69XiChcw258HiFqFkKK8BKmtYi3rsWKovuTiiyQg2ozTRtTsqFIyBcePwlUWG\nnXoM5OXbNN9/9w+1BYjJKBeB0aMjmrYWW5v88+9B/8iJNwDP9iUYmbQmXkZxLSlpXcQdg+G4i6IO\nbNrEp0V2tbdirHAPL1oHzoDuxOB/s2Ky6/2nNCvj3iPh9ydEtgfWCf+1lX2t/NGWh8jJDZlw/AVW\nQATs9t+P/J4Pz69dpnRtmXnlTP46+K+ux/Ly3Af+x9uOoFtee9djAf5zALY4ZYpQoQBUv/cOr8x6\nhfKbr4+IopnbBjbddI37NYFYb0cbcCv9YGpTmroRqErgU1i2ZRlvzn2TkrAZZ/nubeLfyxEKPjE2\nvt4RiPd8fQ/9x/avcx+/9ySxkpoILfLsgunP9YHuf4APndlUtQe7OHoCzp14FSf+zu3Nv4dJk+Lb\ncHcwE7jytlv45tYLqLp7TES71w/+nEjzQrj5KLxOU2llKcdcDPPHPR5x/tbNNmb/4plw7xeJ+3HP\nkS6NtXVmGsPb+9jN6CJ070wJaSKBgIFooVCZBfzjH3DppazdstL1LeLNrv9oA3RY2Ar6XgFvOYl6\n2TkhtXbPlnsCIU2hQ9MOnNjzxBo+1I5xQNsD6NK8i+uxvDbuA3+B8ZLX1E5wbuwcW2ulRXW2NYEd\ndFC99TMaFQrAi1VTufBMGLP2NX4/LNT+Um/oF1acMNxHEMgKDcyQXe3zaVQO141Kf/xBres/u3LO\nW+dQvjkUBVKWwNkb+B6uzP6Upn8KZT3fMekOpq2ZVuc+9vDEF0ThBDSFaPnz8oGwcZqdeX7yywf8\nZ8LDMde+0StWoJflQOtb4JaHj+fRWwbBTTfFvukOaAobfp1Bbv5DHHkp/Lo1cpEZj4lNBizftB6W\n2zDTsrDM1wn//D1fdIObj8NqDEuXwoQJbC3bSFEFeO5/gEPGfZPQjDbTLZKqSWITRjQL/vsylzrR\nQHlRX8t/F4WWoKx0QoujhQLA1h++huefZ+ub/3F9jykda+7H9PbwniOcAvWHjvXvwXHdbSxoQ4QS\nhxPu1winIMu94mJBz/1oUWRrrAw6NNbzPMjfOVgwMVU0ilAQkaUiMltEZojIVKetpYhMEJEFzmuL\nVPfjlVmvMOSlIazzW4fbA4eH1PUAS8N6EVGn3REKPo9jPnLTFNJoiT03EgmFAOVbQg7LstL4YabV\n/mooLeVlsdElpSbKcbtoUZ36eHBhbIRNK5fKD4nq4F/kVCsZ9sYpXPS/m5LOEt5YAA8eBn8YBv97\nI1aY7IhQuPP7kFmhpGlkbX6PiS27sT0b6GJnndvWhEod5Dz9PGDNZsuawXe/P50rHz2Orb/OpmkF\ncO21FA04nBb+2hV+i2f821a1jfVl6yPaXrnnXHpOHR7cz68iIiS5OMzpXemPFAq3lYXWUCjOtRFu\na8vW1aqv8QgsoLPbgYcG11yuKaqsvgkIhYLsAv4x9B/B9hynvEbbikgpVXBAP0YPHE2/9v04uOPB\n3HTITXx64afkYGcJ7XsfzoJWMO20nVNTONoY09sYExiGbwUmGmP2BCY6+ynlwncvZOKSiazd6mJ0\ndSFcbV/7vc3urQ7UigvTIv7ypX1NV/NRwD6djFAoCxMK2xLMsqo8Bjp2pAn2QdxiIrMuyxf/WvuO\nEmniKvTFr6XRIj/+HOLnNpFa3oZH7q11Pw4b6dK4A0IhkGQHUJwfOVK9vLxvTOb2xnxnoD7/fKaf\nMjDYHqgZNLmLzT84tN8M/t0fVrDVCoU8a0JpYmo3Ra6IE5Qz6JnDaPtQKE260lfJhb7IpSnzq4Hz\nQqaPreWhBMhoTWE/sxtvnPU6YB3K551lJ2fZPjubHj1wNHu1qptntXuhVS32222/YDRQl2bu5pxU\nERAK1f5qRh80mosPtL6r5l4rpK5cvTvn7xdKFizMLuTY7scyddRU2hS24cHjHuS47sex6LolzL5i\nJhuwWmL/3j/w1NSnSAXpZD46FQgYH18ETmuoN162Ln5oXzjhQmH83va12hvQFEICoMB5nk2amo+y\nnOlSpalZKJSWhRzNZQnGlWoPUFxMEXbWGy0USkztywkYY9jiC83qz9tiH/ISl0lvotBCj4Gpq0MV\nLY9ee3+do6P2C5/E1kEoVFRXcMUHV7CqLBRhs7XSlpy4Zgr4hv6PM16eFqMp/Gsg3DEY3pn5Grcf\nHRJw8QbvRUXVVig4jv+8sEUWe2yEs5ckjqN/bCCM/vsQbruxN2/vnxUsizF1/QwANs2132e01gCO\nAztsneFif0gAVq5eAWVlQaGQk5VLc8cfNPx0eNMpFlflhbIbN/HosEeZd+28iPtfu9vJwe3uCXIk\nj937JCaPmMzNh94MwMSLJ/K/kf9L+Lnrm3Ch4BEPL5z6Atv+tI2ctrsD0Onskbx65qucsOcJEedH\n07FZJ/Zrd0CEtuH23dcHjSUUDPCZiEwTkYDVvq0xJvCkrAVcqraAiIwSkakiMnWDk9Zepw6EzRzf\nz1ua1DXlLmGRbuaj/NOcdPw0NR9lG/tvT0pT2LQ2tJ3AAhGImMwPLD7vj/yukhEK0Sa4u74cw5vl\nocV72lTZe1dmEVFSIPget7kXN8vxwTfjQ6sdL2wJrKubieKq8GrJdahH9MWSLxj701g+Kgl9rmKn\nZPLBPQfjOdhmBp6/v5099m4XquVw75FWM3At6x3F4pahcGmA3LBqoIVV4D3U5hJcsDDStt3KWRjj\nluPg8ZKJ3N90Jmed5cPXa2+2fh0a6Fu9NYDPvn2JdcXuWvb7Q7vAcceBCFXrQgJw+rIfMJdfRkW1\nNS/meHPYv+3+7h8iN2RWG7D7gOD2mP1Hs5szV9g7LB1j5E9wUti/JK9rDw7rfBhej/1Mg/cYzO5F\nu7u/V4polmtDpQ/qYM09IkJ+dj5bq+2Mv9ke1gHy1tlv8dOon4Jmrnh0aNohuN1mQXIWjtrSWELh\ncGNMX2AYcI2IRMQ/GDtiu5o1jTFjjTH9jTH927RJzgnpxi0Tap/Tv706thBVQFOoDhvQCgL2yzVr\ngvVY0omgppBERnOZCflRatQUIJgDXh2VbFbqSywUvlr6Fd7/8zJl1RT+t+J/+Pw+7v86Mpwvp32n\n4HZ4SYEATXKakOePNTG12A5zFn6LGNh9qxPJs3vdBoeRP0Gh85UsvsYlBbUGNm5dG9NWXGVHuOys\nkNQ9oO0BmL8Ypl8xnVxTtxK034ZqsuGV0D2yfTa+H+D8P41j0/XreIZT2HbVSh456C+u97p9r9U0\nmxRZuGfo58NZ/9M3EW0v9vozANMKtnJ1zgRGnQw/hX3VdwyGN/xzqNxmBXhObgHtmsSpGRIW6//k\niU8Gt1v1PYwXm1ozjBh4qOhM3tw0hGdu+JLxIz7li18O4oe9H0Zq6SxPBR2aduCNs97gkws/iWgP\nmIwGdrCmwPzsfPq0r90a1W2mzav5pDqQmnS+GjDGrHJe14vIu8BAYJ2ItDfGrBGR9kBqdCOHh76r\nfQ15N01hWW45yxdPD9pKIUwozJ1jS92muFZJbamN+ahMQucEVgRz49fWMKkrCLFCEqDEmQ3HY/wv\n7wIw+uULmFKxiOcPvt9qDs64cFa7wRxz3B3830uTEt6n0GRRTqTZLssPm9YsYb9yOHcO3H6MTQA6\nNeGd3Mmd9DXvXXIkx14Mq/zFzPvhP+SuWc8xp90Q95rPFn1G87zmDOwwkNJ1seswBGaNOXEWg6+u\n42JNJ4a5cYwnNMDm+OD+Y+6nuLyYQd0GU5RbxMi/jAfAU+BuVrr/CPf3+PjzpyDsd3Fxp5O4/efH\nmJWzmfcOdL9mXeUm2hx3NAyH/NzkBu7uLbuHdvLzGfLnZ7nmn6u59dob6Xjo8cFDHuDoY+NVnWsc\nzt43tuje2fuejdm3brk8I3qP4PkZzzPoPpdy/fVAg2sKIlIoIkWBbeA4YA7wPhAIYRgOjG/Ifp0z\np+Zz3ITC67utp8vLfakqDhk3m+fZmLEKLzu2SEqKyCJgPqpZUygNEwpbali3ePAlBAfxqqiBOVwo\nLNm8hOXFkVU8y0ttWeopFTZK6ad/3hrhHH1z+Ee0KqxZMyysDg1+A51w98ld4JfW0KJCKDzHJiSc\ndj5Mm/4RxeU1rJnhkFMNY98HDj3U2uqx2dMnfnIRQ2bemPDaof8ZykHPWPNBeXls5FOx32qgOVnu\n9jmf1G3wGPdWaNtI6FHP8UGf9n34/rLvKcqNzFwzeXFS1uPwWGv7/1rS+h4WrTgD+vWje5POTE+Q\nf/VBk9Uc4zzp+XGSuKIJPFMAiJDlyeLx6ydECIRdhX+d+C9KbyulTfMONZ9cBxrDfNQWmCwiM4Ep\nwEfGmE+A+4FjRWQBMMTZbzBefRsOiNXsI3ATCgEqt4e0gdYFdupUWrsowAYjuwZNIdzfUubxcZB7\nLhFuY5WstQpetKO0tCJk7+/2aDe6/CMyCmRrWaTH8LGDIHt7WCx7dnaN9tZoiiph5Bo7Ov3a2hZF\na9IuZFN54/Gr+HH1j3Gv/+wlGO2snzJmUUcun7ARPJ7gKl6LwwOeojK4fX4fs9bNimj7cMITlFfG\nThKKjW0LFPWrLYEFXJ4dD6X3wsYHwHcXFE2fG+pemLbxyNo4U3iA/JDkP3cOLPlH5OGz50LV/8W+\nf5dBp9LtmbchO5umu+/BsgSx9J+HT/odH1S4eQjguVNiCyqe0fJwbpU4KssuRF5WXq2fhdrQ4ELB\nGLPYGHOg87evMeZep32jMeYYY8yexpghxpj6rb1cA96ybQwwidPLA0Khpcvk/8cwod2mwM5og0Ih\nzcpdBEw88YrM+cIiqcq81THJSAGyXD5WYJ6+UDbT+ZHQAFxSkXiFqw2lsY5ff7jU8XhomhtZlGfu\n1XNZeX2kxFqeGxLcVR4YOyaUONfV34zC/NA9mkli1afq6CM5u7f1G5y/tYtd5UuEpm/b8gh/GBZ+\ncqSAffi7hznwqQP5cVVI6Jz8v2u5bf4TMe9T7Djhs+MUUWtbGBtz0S3s6bjyZ2vy2dCpFYWbS2n5\n4UQ8//sOeoXW4DyohV2AZnbHv9L7nfgROMf0DM28hy3x0nVx5GP41IeQdd8D/PYAvPyObavyguwW\n8n7nZdegUoaRv9VqSSf3DEUUtdgOI/rEFn17e/Q33HdnaiuEKukVktq45Ofz2AmPxTSHZ4IGZnn7\n1eDtaN3EPiBfd3GicpYsSXxBA+N3fPjxhEJ4jHyp1x+3vICbUAjU07k+dxIrtobs5yXbrZkmPMKo\nuiLkuC/ZGlvVM6IyaFgpiwC92vSKiMYAImLaq7zgadeevsY6MvfK70hhfrPg8UXerRRvj1zj9/vc\na3mj5Hgu6zOSY576jCNuegzzeGu63hzKbWh3pA0fLAhTZKpWRq6dO2Oprb/z1OsumdBRbMWJxMl2\nN918e+m3nLPXmcH9F96FuU5JriJvAdfd9BadK/I47/FJUFgIgwfDwZHlNcdc8gLjj/o3+428DeL4\nDQDaN90d/7ST+P5puHhzZ2jRgq9+6MXDn8LaB6HlwEFwyy20umAkZ4mNH21WnWWXinR4bFjoOWrt\nKNAjZmfx7CnPxrxfgfPb6tC0A79ea50gnZOz6CkpYpcVCq2qstl/Hcx7DJb/3bbl770/N0ZNonwe\nGHuPU2HRsQc3qaG+WmGRrcz12v6Qcyd4X+rBgvW1WySlPrn6o6tp8UBoQA3Mv+MJhXPeOie4Xeb1\nkxsn3cJNKMSjZJ31Ify2LTT4r1rkrFrn9zGlMlZwRpeLFhEePf5RPjj/g7jvM2n4JO47fAwQioja\n5LGDbs/cDnRtESotOjlnLcWbIityDjjsbM5+6GOePuUZcrNyrXawYQMMGhTRj4v8+7MtbGI/8G+h\nzOvVJasp3Ga/2+dK4s9sz2x1BGKg2GuFcDyh0L1ldx44PhQYkeODvFtv57UzX2Pu6Hl0O3gYy/66\nnS6d4oR2Ygf7UwaNins8HHn/Aw76y1jkC+vUP/LZz7lhz4tpWwZc7BQOfOYZ8mbMofL2SjaM2RYq\nhAjsVrgbp/e0bvyqAmsS67wtm0v7XBrzXjlXXhvc3rPVnjxw0O38+7IGdScqUeySQmHN5++yMbuK\no1bnsNcv6+n0s2OC6NmTP5/xSISDDuAKn/2RljsLa2fXMBhK80iDqt8Dl9zWK87ZqefJqU+ypXxL\nqD+OWaZyyULX8z/8NVQ9sjzL1Mp8FI/fyjdx0DMH8cqsV4Jty5bYRKhr/3stPjF0jJohRi+IAjD6\noNGc1POkuO/Tvqg9++9uQ/t6OJaPTljtoF9+N/bv2I9nxsMFs2yJ6A2rIxMXE622F84NF0fawGe0\ntxrWsi3L6PD3DjyzOr7gAlh5/Ge8cuUE8smiONv+P7Kz4/sU2jcJmTZzBg+Bu+7i3P3OpVOzTnGv\n2SEuvzxYVoP27eHFF21exohIs062NztYYyicvdrY+PvKbDvEbD/3jIjjA3L24NLel9Jqt64R7bcc\nfzcH9Tulnj6EUhd2SaHwxTqr2q/N90GbNtAhZIJocdlozrsh1snlq6qkvMKJJ68pUblZM949+ZWI\npniz7YZkW9U2Ji6eGHQ5VubEjrrzfouNfY63/nJBtbgfcGFK1jqmrJrCDZ+FQje/+nUCBzx5AE9N\ns+n63Uoi4/Erne7NeL92OQXH9jyeWybD49/YyJo3yk7g8xehebO2SJs2jLz6afoU7UlZDkxY8VXk\nxd7kcgJ6dz8spu3dOW/S9Z9dk7q+Q/PO5Gblkk92cP3egtz4Naxzw5zQOU2aRczMG4yePSNyBxJx\n6+G3cnnfy/nx8h/p2LQjw0/4U8Tx/za/hmdPfTZl6xkodWeXFAqtu9mlwzbmuIzUXm/MbAhgyaKp\nlJdbA2n4Mn8Bhi2AZY840RpFRZzW9wK+HP5l8PikPWDG6p9irmtI/jjhFoa8PIT12dacUrF+dUzU\nzL3fxNYFencfG4kTTX4tErZn5m2J2O+zBu7c+h6z14eWZ2y3Jfb/0WI7HDg1TvhTHHK8OTxwzbu0\n/MFG/7Q7eAjHLAGOdHIkL7uM/KFW25hYFrU8ZC0G29vW9ADgyKV2/6LxlyTfSSf0M0+ygwsDFeQn\nt7pN8y4pXmWlHmiW14yxJ49l3932ZcX1K+jVJlJTLuibuoJuyo6xSwqFPvvb5JbhM+Of89CyvRi8\nGL5/2u7PXfw95RVWKBS1iI0GqfRaB1nX/Y8IpucP6jqIhaMXcrrXCqE+T/erx09Re76Z91nE/ssH\nAh99FNEWKD8QzrU/QLfNMc3kOUb/w7clyGpz2Bbmsf/D93DGvNgZoseEsoUDvPAeSc9OIzjtNJs4\nCHD66basxRGhcMb9OoayR/utJlg2ocYFecK4ffSb3DIZPnJyiOKF+E54CW76KSoix/mN5HlCjonC\nwuRqIg84+MyaT0pTAsum5g2MzUhX0oNdUijs1qQtpt1TXPyP+NmxN/79eya+BL022Hj8T5Z+How+\nKnRZlDu4TGXUgizdW3bnC3/NZaOHvTKMqz+6OvkPUQNuJY7XV8RG+VZsijwn3PcQ4JT50NolDDfP\nMR+dUtaRrwe9GHtCHK6dAh2vjC0zIkDpkvN54fNQQlPWXvskfd+E7BZZMGjQvifS2fmoe26EWU/C\nD08TLPyWDAWdu/PA59Ck9e70C1sL6L7PQ9tmDAxZDAePigrudzSF3DChUFDQjET8p+uN3Du9JXl7\n7Zt0H9ONn674iSdOeAKP7JJDT0aw6/5nrrgCjjoq/vHmzWHcOIoqbSXGpzZ8zIrSVeRWw+99Azhi\nWWSFxlbbgXL35LZbPHaG6vHbdWzd+GThJzw59UnXY+FU+6sTJtGBLbpW+NfCYInjQLj/+srY6f66\nys2UVJSwrcqO+hvLYkNDC6sIZvGGk1tpzT1Zi5fRdt+BsSc45DhmpkOXw4JHoYdpQfN2Xd1PfvVV\nLn4/LNs5SRt/rWnenC6OY/vimdC2DAauquX7FRXBfffBZ59xyYxQ8xm/wODFcN13TkPHjgw+OGoV\nrYCm4MycvX7ILki86kdWBwAAEVpJREFULubvhj/En97bGFEoLtPo1aYXVw+ov8mPUv/sukIhGc47\nD3w+bphhZ3WTfptKu1JoX9iWr5+H3ZwY7OMXwCtvE/dh/VPzk3lggo1CWrXYjh6fLfqM373zOzaU\nbahxkA/n8g8up+l9TV1Xrgrw/vz3g9v7/Wu/4MIiPpcaOmuqNtP8gea0ebANk5dPZtPG2No8hZWh\npDSwJrXTf4Guzkzbu2kzXcJCPaMJRAHt/Zuzvf/+NGsaW7IiILykRcrXVwKPh+f2uZWT5sNhK7Dl\nSJ55psalO2O49VbYd1+6nB1avLrFdpj4EjzyKbaE9JQptGjVEd+9YY79gFBwHMjNykES5A8oSkOh\nQqEmPB76+m3y05LyNRy+HDj6aDjrLCTbhuKdOxfaJCpxdOWVtBlg49w7vXsExeXFnPvWubw6+1Ve\nnPki3y4PlYE2NSx4/8KMF6jyV7F48+K454RXxJy7Ya7rOV0dpeHg9ffiN362VW3jiOePYGm1u6YQ\nzkGr4J3XoYsjFDYPPiQiOiaaA36z/TkwkLTcty9Nm1ktpmfs2wHw8F6/B6Bb+9SF8vbwN+eDcdD0\nT3fZ8g4jR9bNfwH0OypUMbVFuIwfMsSGdAKe5WEC13Fo/6/MRnttKgDaulaLV5QGRYVCErS77s/B\n7SOWAS1awJtvUtTM2qnzayo2mpXFBcNCNvTmDzQP2u5vnnAzQ14eEjw2Z/0c3pz7JlNWTaHSV4kx\nhjsn3ck3y75hxtqQjeKbZZEli8PJy6q5qFm4uSOaPaKsTB3vesT1vDOW5tGxGI66PLLE9ZMf2mis\nfZyq4bcv7sDVU2BEu2HwwQdw//0c2GUgYybBN8/DS+/E3vv6c//BygNfZO+HXqjxs9SZESPgmmvg\nhvgVTpNl956hIIKsBx6EH3+EiRMjT2rXjvwqGLQ09voL5+VA586xBxSlgWmU0tmZRtsTzoG5lwNw\n0q/YUgJATr59LZJcePe1hPfIbdKcoQvh0x6J3+uApw4Ibo/oPQJBeG7Gc9z99d0R5436cBTN8ppx\nzr7nsGDjAo77z3HcfsTtjOw7ks3lLqFCYbz+pi1sduA6OP282OMfvQJ7boJWt0CnrZDXsQi6dGHK\n2GVszcXOcv1++n0yixWzZsEeRwEw78WmbKzeyqEr4Mqpdv2FxS1g33324In/LodL2sJJNhQ0C/iL\nkyJgLroQyv5DZFULocNpFyf+snaU3XaDxx+vn3s1DQsn7dUL+vd3PW1bIOLXLq3MMyc/wz+/e4Tn\nx8YuGqQojYFqCkmQVxB64DuUCnTrBsC9zc5k+AwYcuiFNgQyEc2b88l/YMPfQk0HFMS3wwM8P+N5\nnpsRm0gX4Ny3zuW8t87j7V/eZumWpVz2wWV0+2c3FqyNNRk99Glo+5y51kdwWliemhkDKxadyrbl\nF7HPbzZbefE/YcrTQJMmMHMmA3ocaeP9Fy2COXNgzz3hzFB45F77DeLQMAtJYRXsvx4YOtQ2nBGZ\n1cpzz8H06Qy78mE6FsMtGT4u/vQU/Pw4VpOMx/nnR+yO7DuSWdfMIasoceSRojQUUpMNO53p37+/\nmTp1as0n1gPT92uNf9NG+vUcBF9+aRtfeMGaIK68Ep6sOXIoYK/+8bbhrCjyM+D+l7nvCLj7rCfw\nXHUNh18KPyex1OK4t+D8sxKfc+hyO7B/3dWuFfHal6048uSNnP0z/N4pB80f/sC0N/5JRRahwXz3\n3cHni1yucupU6NfPxvCvXh2K/4+mtBS++84uwwh2Jr5+PcyeDR072oiueARs+Rn8ewx+hkWLghMH\nRUlHRGSaMcZVnVWhkCyBB/6tt0Kz4+3b4frr4a67knMSDhkSa2eOYvsXnyFZWeR/MRiAHi17sHDT\nQs4u7cKbTWwlTjPG1gUqPrw/7Y5y//xvvAFn/xzWMGgQfBVV0sHvrzmDt1kzWxAuO7maQEDou3rw\nQbj5ZrtWdU2hniJw3XXwiLv/IiM49FArFH2+xilDoShJkkgoYIzJ2L9+/fqZBiMryxgwZvXqHbvP\nbbfZ+9Twt+/VGMZgKryYrTm2bdZumOVNI8+reuM188nU10xJn33Nik/eMBXVFWb6m4/G3vOMMyL3\nCwttf+L14bPPjJkxw5jS0tp/xgULjFm5cse+p0xkyxZjfv21sXuhKDUCTDVxxlV1NCfL00/Dzz9D\nuziLjCfLX/9qtYUpU2y0yfLlrqdN+7ct253js3/g2OcBHnoIbrJ1+rPOOY+h2dlQVUWT48+BpUvp\nvdFlsZZAxUuATz+1xc3AzuB9PjurLy+HO++02s+xx9b9M/aowZu+s9Ksmf1TlAxGzUeNwezZNhN2\nzBgbEnnBBTaW/YcfbFtNGAMffwy33GIdvsnw22+hhVDC/+d//rMVVMmYeBRF2SlQn0ImsWABTJ4M\nd98duWLbkiXw2Wc2/v1pp0qf32/9FJPi1HCaOTOkmWzYYAWI1wv7hNUTChiM1AauKLsMKhQykQMP\nhFmzYN48Wzwt3PwTTnk5XHqpDfe89FI7uGdn2/j7c89t2D4ripIRJBIK6lNIV955B159teaFTfLy\n7HkAZ9UQp6ooilIDKhTSle7d4Y47GrsXiqLsYqghWVEURQmiQkFRFEUJokJBURRFCaJCQVEURQmS\ndkJBRI4XkfkislBEbm3s/iiKouxKpJVQEBEv8AQwDOgFnC8iqVt6S1EURYkgrYQCMBBYaIxZbIyp\nBF4DTm3kPimKouwypJtQ6ACErxy/0mlTFEVRGoCMS14TkVHAKGe3VETm1/FWrYE4y8anNdrvhkX7\n3bBovxuGOHVz0k8orAI6he13dNqCGGPGAmN39I1EZGq82h/pjPa7YdF+Nyza78Yn3cxHPwJ7isge\nIpIDnAe838h9UhRF2WVIK03BGFMtItcCnwJe4DljTOwq9IqiKEpKSCuhAGCM+S/w3wZ4qx02QTUS\n2u+GRfvdsGi/G5mMXk9BURRFqV/SzaegKIqiNCIqFBRFUZQgu6RQSOf6SiLSSUQmicjPIjJXRP7g\ntLcUkQkissB5beG0i4g86nyWWSLStxH77hWR6SLyobO/h4j84PTtdSeiDBHJdfYXOse7Nlafnf40\nF5G3RGSeiPwiIoek+/ctItc7v485IjJORPLS9fsWkedEZL2IzAlrq/X3KyLDnfMXiMjwRur3g87v\nZJaIvCsizcOO3eb0e76IDA1rT9vxxhVjzC71h41qWgR0A3KAmUCvxu5XWP/aA32d7SLgV2wdqL8B\ntzrttwIPONsnAB8DAhwM/NCIfb8BeBX40Nl/AzjP2X4KuMrZvhp4ytk+D3i9kb/zF4HLnO0coHk6\nf9/YLP8lQH7Y93xJun7fwJFAX2BOWFutvl+gJbDYeW3hbLdohH4fB2Q52w+E9buXM5bkAns4Y4w3\n3ccb18/d2B1o8A8MhwCfhu3fBtzW2P1K0N/xwLHAfKC909YemO9s/xs4P+z84HkN3M+OwERgMPCh\n81D/FvYABb93bMjxIc52lnOeNNL328wZYCWqPW2/b0LlYFo639+HwNB0/r6BrlGDa62+X+B84N9h\n7RHnNVS/o46dDrzibEeMI4HvPNPGG2PMLmk+ypj6So6a3wf4AWhrjFnjHFoLtHW20+Xz/AO4BfA7\n+62ALcaYapd+BfvsHC92zm8M9gA2AM87pq9nRKSQNP6+jTGrgIeA5cAa7Pc3jcz4vgPU9vtt9O/d\nhUuxWg1kVr8TsisKhYxARJoAbwPXGWO2hh8zdsqRNrHEInISsN4YM62x+1IHsrAmgieNMX2AMqw5\nI0gaft8tsNWD9wB2Bwr5//bONNauKYrjv38FJSg1pQhV1PCBikYaLV4RMSdoRDzhGRISMQURiui3\n+qBomyJR1VBDaEObEq1ZSChpeVTLM5QSQ8TUGGJYPqx17ju9Ofe1fbT3vvfWL9m5ezpnr73efWfd\nPZy14YSmCvUfaDX9rg+SJgJ/AXOaLcv/zUA0Cuv0r9RsJG2OG4Q5ZjYvsr+RNCzKhwHfRn4r9Gcs\ncJqkz3B358cAdwHbSypekCzLVZM5yocA329KgUusBlab2RuRfgI3Eq2s7+OAT83sOzP7E5iH/w36\ngr4LNlS/raB3ACR1AKcA7WHQoA/Ivb4MRKPQ0v6VJAmYCXxgZlNKRfOBYsfF+fhaQ5F/XuzaGAP8\nVBqWbxLM7AYz28PMhuP6fMHM2oEXgQkNZC76MiHqN+WXopl9DXwhaf/IOhZYTgvrG582GiNp6/i+\nFDK3vL5LbKh+nwWOl7RDjJSOj7xNiqQT8GnS08zs11LRfODs2Om1N7Af8CYt/ryppNmLGs0I+A6H\nD/FdARObLU+dbOPwofS7wLIIJ+FzwM8DHwHPAUOjvvDT6j4GOoHRTZa/je7dRyPwf4wu4HFgy8gf\nHOmuKB/RZJlHAW+Fzp/Ed7e0tL6BScAK4D3gQXzXS0vqG3gEX/v4Ex+ZXdQb/eJz+F0RLmiS3F34\nGkHxv3lPqf7EkHslcGIpv2WfN1Uh3VwkSZIkNQbi9FGSJEnSgDQKSZIkSY00CkmSJEmNNApJkiRJ\njTQKSZIkSY00CklTkbSjpGURvpb0ZSn9+kZq81BJMyPeIWn6Ouq3STqil20Nl3ROb67dgDbaFJ5p\nK8o+k7RTL+7ZIWm3UvpRSfv9FzmTvkEahaSpmNn3ZjbKzEbhnj3vKNJm1qsH8XpwIzB1A+q3Ab2V\nZTjQ0CgULqNbkA7chUbB3fhLW0k/J41C0rJIWhOfbZJelvSUpE8kTZbULulNSZ2S9ol6O0uaK2lJ\nhLEV99wWONjM3qkoO1V+3sBSSc9J2jWcEl4KXB2jlyMbtSPp6NIoZ2m0NRk4MvKurujmddGPSyRt\ntw59DJY0K/q8VNL4ijo7SlokP2vhPvxlsKLs3GhrmaR75edfbCbpAfm5DJ3ycxomAKOBOVF3K+BV\n4LiSG42kv9Lst+cyZCgCcCtwbSm9Jj7bgB9xF8pb4r5jJkXZlcCdEX8YGBfxPXFXIfVtjAfmltId\nwPSI70D3ueUXA7c3kKuyHWABMDbi2+DO9tqIN7x76Pf+uG/+LmBWce+KetcA90f8ANzdxWDWfot8\nKnBLxE/G347fCTgw5Ns8ymYA5wGHAYtLbWwfny9R97Y2sBg4rNnfkwwbN6TVT/oKSyx8DEn6GFgU\n+Z34gx7cUdxB7g4IgO0kbWNma0r3GYa7yq5iD+CxcNC2BX7OQhWV7QCvAVMkzQHmmdnqUp2GmNlK\n4HpJN+LnBiyUNNvMrqirOg6YFteskLQKGFlX5yjgjKizUNIPkX8sbgCWhExb4U7oFgAjJE0DFtKt\n1yq+xaeU+qI33GQ9SaOQ9BX+KMX/KaX/oft7PAgYY2a/93Cf3/Bf11VMA6aY2XxJbfgIoYpG7UyW\ntBD3dfOaSkcyFkiahZ+R8ZWZnRR5wg3bhcDh+K/9+3roQ28QMNvMbqiQ6RD8kJ5LgbNCjioG4/pL\n+jG5ppD0JxYBlxcJSaMq6nwA7Nvg+iF0uzU+v5T/C340ao/tSNrHzDrN7DbcO+YB9dea2QXmi+iF\nQWjHHdtdhk9LHWhmN5vZqgr5XgXa47qR+NTVyro6rxAL25JOxKfEwJ3PTZC0S5QNlbRX7EwaZGZz\ngZtwt+FVfQYflbxH0q9Jo5D0J64ARssPVV+O//JdCzNbAQyJReB6bgUel/Q2fmRlwQLg9GKhuYd2\nrooF23dxz5rP4J5X/5b0ToOF5lX4GsKZZva0mf3dQ/9mAIMkdQKPAR1m9kddnUnAUZLex6eRPo9+\nL8cf+otCvsX4VNruwEuSlgEP4cdFAjwA3FMsNEvaFfjN3NV40o9JL6nJgCMezr+Y2f89RdNvCZ39\nbGYzmy1LsnHJkUIyELmbtdcoknXzIzC72UIkG58cKSRJkiQ1cqSQJEmS1EijkCRJktRIo5AkSZLU\nSKOQJEmS1EijkCRJktT4F7i9dOIpkm3+AAAAAElFTkSuQmCC\n",
            "text/plain": [
              "<Figure size 432x288 with 1 Axes>"
            ]
          },
          "metadata": {
            "tags": []
          }
        }
      ]
    },
    {
      "cell_type": "code",
      "metadata": {
        "id": "ymg6PqLg4lhp",
        "colab_type": "code",
        "outputId": "8e3a9dc8-108a-4654-e48f-e0509ead2bfa",
        "colab": {
          "base_uri": "https://localhost:8080/",
          "height": 323
        }
      },
      "source": [
        "from sklearn.metrics import max_error\n",
        "max_error(input_data[lookback:test_size+(2*lookback),1],predicted_value[:,])"
      ],
      "execution_count": 0,
        }
      ]
    }
  ]
}
